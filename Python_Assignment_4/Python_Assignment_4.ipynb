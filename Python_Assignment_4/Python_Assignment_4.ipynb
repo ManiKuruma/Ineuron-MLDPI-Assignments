{
 "cells": [
  {
   "cell_type": "markdown",
   "metadata": {},
   "source": [
    "#### 1.1. Write a Python Program(with class concepts) to find the area of the triangle using the below formula.\n",
    "#### area = (s(s-a)(s-b)*(s-c)) ** 0.5\n",
    "#### Function to take the length of the sides of triangle from user should be defined in the parent class and function to calculate the area should be defined in subclass."
   ]
  },
  {
   "cell_type": "code",
   "execution_count": 4,
   "metadata": {},
   "outputs": [
    {
     "name": "stdout",
     "output_type": "stream",
     "text": [
      "Enter the Side a :25\n",
      "Enter the Side b :14\n",
      "Enter the Side c :16\n",
      "The sides of triangle are a=25.0, b=14.0, c=16.0\n",
      "The Area of the triangle is 103.31\n"
     ]
    }
   ],
   "source": [
    "#Parent class\n",
    "class Triangle:\n",
    "    def __init__(self): # this method is self constructor for Triangle class\n",
    "        number_of_sides=['a','b','c']\n",
    "        self.TriangleSides=number_of_sides\n",
    "        \n",
    "    def sides_Of_Triangle(self): # this method will return sides of Triangle\n",
    "        self.sides_Of_Traingle=[input(\"Enter the Side \"+i+\" :\") for i in self.TriangleSides]\n",
    "\n",
    "#Sub class       \n",
    "class Traingle_Area(Triangle):\n",
    "    def __init__(self): #this method will inherit properties from parent class\n",
    "        Triangle.__init__(self)\n",
    "        \n",
    "    def area_Of_Triangle(self): #this method will return an area of triangle\n",
    "        \n",
    "        # Iterator is created here to iterate sides of triangle from collection\n",
    "        triangleSides=iter(self.sides_Of_Traingle)\n",
    "        a=float(next(triangleSides))\n",
    "        b=float(next(triangleSides))\n",
    "        c=float(next(triangleSides))      \n",
    "           \n",
    "        # Half-perimeter of Triangle         \n",
    "        s= (a+b+c)*0.5  \n",
    "        \n",
    "        # Area of Triangle         \n",
    "        Area = (s*(s-a)*(s-b)*(s-c))**0.5    \n",
    "        print(\"The sides of triangle are a=\"+str(a)+\", b=\"+str(b)+\", c=\"+str(c))     \n",
    "        Area = ('The Area of the triangle is %0.2f' %Area )\n",
    "        #returns Area\n",
    "        print(Area)\n",
    "\n",
    "        \n",
    "# Create object of Sub class Traingle_Area()\n",
    "Area_Of_Traingle = Traingle_Area()\n",
    "\n",
    "#Ask User to Enter the sides of Triangle\n",
    "Area_Of_Traingle.sides_Of_Triangle()\n",
    "\n",
    "# Calculate the Area Of Triangle\n",
    "Area_Of_Traingle.area_Of_Triangle()"
   ]
  },
  {
   "cell_type": "markdown",
   "metadata": {},
   "source": [
    "#### 1.2. Write a function filter_long_words() that takes a list of words and an integer n and returns the list of words that are longer than n"
   ]
  },
  {
   "cell_type": "code",
   "execution_count": 5,
   "metadata": {},
   "outputs": [
    {
     "name": "stdout",
     "output_type": "stream",
     "text": [
      "Input:\n",
      "Enter your words: Mumbai, Delhi, Hyderabad, Goa, Kerala\n",
      "Enter your number: 5\n",
      "Output:\n",
      "The List of longest words , which  are longer than 5 is :\n"
     ]
    },
    {
     "data": {
      "text/plain": [
       "['Mumbai', 'Hyderabad', 'Kerala']"
      ]
     },
     "execution_count": 5,
     "metadata": {},
     "output_type": "execute_result"
    }
   ],
   "source": [
    "#this function filters words based on length\n",
    "def filter_long_words(WordList,n):\n",
    "    \n",
    "    #List Comprehensions\n",
    "    Wordlist=[x.strip() for x in WordList if len(x.strip())>n]\n",
    "    \n",
    "    if(len(Wordlist)>0):\n",
    "        print(\"Output:\")\n",
    "        print(\"The List of longest words , which  are longer than \"+str(n)+\" is :\")\n",
    "        return Wordlist\n",
    "    else:\n",
    "        return \"No Words longer than specified number \"+str(n)\n",
    "    \n",
    "#Ask user's Input\n",
    "print(\"Input:\")\n",
    "string= input(\"Enter your words: \")\n",
    "number= int(input(\"Enter your number: \"))\n",
    "\n",
    "# Split the words by \",\" comma and convert into list\n",
    "list_Of_Words = list(string.split(\",\"))\n",
    "#calling function\n",
    "filter_long_words(list_Of_Words,number)"
   ]
  },
  {
   "cell_type": "markdown",
   "metadata": {},
   "source": [
    "#### 2.1. Write a Python program using function concept that maps list of words into a list of integers representing the lengths of the corresponding words . Hint: If a list [ ab,cde,erty] is passed on to the python function output should come as [2,3,4] Here 2,3 and 4 are the lengths of the words in the list."
   ]
  },
  {
   "cell_type": "code",
   "execution_count": 6,
   "metadata": {},
   "outputs": [
    {
     "name": "stdout",
     "output_type": "stream",
     "text": [
      "Input : Enter your Words : a,is,cat,walk\n",
      "Output: Length of Words are : [1, 2, 3, 4]\n"
     ]
    }
   ],
   "source": [
    "#Function to map length of words with words \n",
    "def map_Words_to_Length(List):\n",
    "    return list(map(len, List))\n",
    "\n",
    "word_List=list(input(\"Input : Enter your Words : \").split(\",\"))\n",
    "\n",
    "#List Comprehension has been done to remove white trailing white spaces\n",
    "List=[x.strip() for x in word_List]\n",
    "\n",
    "#calling function\n",
    "Words_lengths=map_Words_to_Length(List)\n",
    "\n",
    "print(\"Output: Length of Words are :\",Words_lengths)"
   ]
  },
  {
   "cell_type": "markdown",
   "metadata": {},
   "source": [
    "#### 2.2. Write a Python function which takes a character (i.e. a string of length 1) and returns True if it is a vowel, False otherwise."
   ]
  },
  {
   "cell_type": "code",
   "execution_count": 8,
   "metadata": {},
   "outputs": [
    {
     "name": "stdout",
     "output_type": "stream",
     "text": [
      "Enter a character to check if it is Vowel or not\n",
      "Input : I\n",
      "Output : True\n"
     ]
    }
   ],
   "source": [
    "#this function will return true/false based on the user input\n",
    "def vowel_checker(inputChar):\n",
    "    return_value=''\n",
    "    if(len(inputChar)==1):\n",
    "        vowel_list=['a','e','i','o','u']\n",
    "        if (inputChar.lower() in vowel_list): # converts first to lower case and checks if it is in vowel list\n",
    "            return_value= True\n",
    "        else:\n",
    "            return_value= False\n",
    "    else:\n",
    "        return_value=\"Please enter single character only!\"        \n",
    "    return return_value\n",
    "\n",
    "#Ask user's Input\n",
    "print(\"Enter a character to check if it is Vowel or not\")\n",
    "input_value = input(\"Input : \")\n",
    "#calling function\n",
    "output_value=vowel_checker(input_value) \n",
    "#Output\n",
    "print(\"Output :\",output_value)"
   ]
  }
 ],
 "metadata": {
  "kernelspec": {
   "display_name": "Python 3",
   "language": "python",
   "name": "python3"
  },
  "language_info": {
   "codemirror_mode": {
    "name": "ipython",
    "version": 3
   },
   "file_extension": ".py",
   "mimetype": "text/x-python",
   "name": "python",
   "nbconvert_exporter": "python",
   "pygments_lexer": "ipython3",
   "version": "3.8.3"
  }
 },
 "nbformat": 4,
 "nbformat_minor": 4
}

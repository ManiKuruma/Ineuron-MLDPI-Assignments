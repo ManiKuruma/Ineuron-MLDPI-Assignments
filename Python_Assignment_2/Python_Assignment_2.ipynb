{
 "cells": [
  {
   "cell_type": "markdown",
   "metadata": {},
   "source": [
    "#### 1. Create the below pattern using nested for loop in Python\n",
    "#### * \n",
    "#### * * \n",
    "#### * * * \n",
    "#### * * * * \n",
    "#### * * * * * \n",
    "#### * * * * \n",
    "#### * * * \n",
    "#### * * \n",
    "#### *"
   ]
  },
  {
   "cell_type": "code",
   "execution_count": 1,
   "metadata": {},
   "outputs": [
    {
     "name": "stdout",
     "output_type": "stream",
     "text": [
      "\n",
      "* \n",
      "* * \n",
      "* * * \n",
      "* * * * \n",
      "* * * * * \n",
      "* * * * \n",
      "* * * \n",
      "* * \n",
      "* \n"
     ]
    }
   ],
   "source": [
    "# Here we need two major for loops with nested ones.\n",
    "# one for loop to print the * in increasing order from 1 to 5 and\n",
    "# another for loop to print the * in decreasing order from 4 to 1\n",
    "#lets take 5 value as n\n",
    "n=5\n",
    "for i in range(n): # iterates till n=5\n",
    "    for j in range(i): # nested for loop to print * as per position of i\n",
    "        print('* ',end=\"\") # here end parameter is used to append any string at the end of the output of the print statement\n",
    "    print('') #gives space for each iteration\n",
    "for i in range(n,0,-1): #iterates from 5 to 1\n",
    "    for j in range(i): #to capture the state of i for each iteration\n",
    "        print('* ', end=\"\") \n",
    "    print('')   "
   ]
  },
  {
   "cell_type": "markdown",
   "metadata": {},
   "source": [
    "#### 2. Write a Python program to reverse a word after accepting the input from the user.\n",
    "#### Sample output:\n",
    "#### Input word: ineuron\n",
    "#### Output: norueni"
   ]
  },
  {
   "cell_type": "code",
   "execution_count": 2,
   "metadata": {},
   "outputs": [
    {
     "name": "stdout",
     "output_type": "stream",
     "text": [
      "Enter a word to make it reverse: profession\n",
      "Reverse order of profession : noisseforp\n"
     ]
    }
   ],
   "source": [
    "#lets store the input word into a variable\n",
    "input_word=input('Enter a word to make it reverse: ')\n",
    "print('Reverse order of '+input_word+\" :\",input_word[::-1]) #here [::-1] gives the reverse order"
   ]
  },
  {
   "cell_type": "code",
   "execution_count": null,
   "metadata": {},
   "outputs": [],
   "source": []
  }
 ],
 "metadata": {
  "kernelspec": {
   "display_name": "Python 3",
   "language": "python",
   "name": "python3"
  },
  "language_info": {
   "codemirror_mode": {
    "name": "ipython",
    "version": 3
   },
   "file_extension": ".py",
   "mimetype": "text/x-python",
   "name": "python",
   "nbconvert_exporter": "python",
   "pygments_lexer": "ipython3",
   "version": "3.8.3"
  }
 },
 "nbformat": 4,
 "nbformat_minor": 4
}
